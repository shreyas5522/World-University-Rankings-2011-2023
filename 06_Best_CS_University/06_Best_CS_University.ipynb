{
 "cells": [
  {
   "cell_type": "code",
   "execution_count": 5,
   "metadata": {},
   "outputs": [],
   "source": [
    "import pandas as pd"
   ]
  },
  {
   "cell_type": "code",
   "execution_count": 6,
   "metadata": {},
   "outputs": [],
   "source": [
    "# Load the data into a pandas dataframe\n",
    "df2011 = pd.read_csv('2011_rankings.csv')\n",
    "df2012 = pd.read_csv('2012_rankings.csv')\n",
    "df2013 = pd.read_csv('2013_rankings.csv')\n",
    "df2014 = pd.read_csv('2014_rankings.csv')\n",
    "df2015 = pd.read_csv('2015_rankings.csv')\n",
    "df2016 = pd.read_csv('2016_rankings.csv')\n",
    "df2017 = pd.read_csv('2017_rankings.csv')\n",
    "df2018 = pd.read_csv('2018_rankings.csv')\n",
    "df2019 = pd.read_csv('2019_rankings.csv')\n",
    "df2020 = pd.read_csv('2020_rankings.csv')\n",
    "df2021 = pd.read_csv('2021_rankings.csv')\n",
    "df2022 = pd.read_csv('2022_rankings.csv')\n",
    "df2023 = pd.read_csv('2023_rankings.csv')"
   ]
  },
  {
   "cell_type": "code",
   "execution_count": 7,
   "metadata": {},
   "outputs": [],
   "source": [
    "# Combine all the dataframes into a single dataframe\n",
    "frames = [df2011, df2012, df2013, df2014, df2015, df2016, df2017, df2018, df2019, df2020, df2021, df2022, df2023]\n",
    "df = pd.concat(frames)"
   ]
  },
  {
   "cell_type": "code",
   "execution_count": 8,
   "metadata": {},
   "outputs": [],
   "source": [
    "# Filter for computer science universities\n",
    "df['is_computer_science'] = df['subjects_offered'].str.contains('Computer Science')\n",
    "df.dropna(inplace=True)"
   ]
  },
  {
   "cell_type": "code",
   "execution_count": 9,
   "metadata": {},
   "outputs": [
    {
     "name": "stdout",
     "output_type": "stream",
     "text": [
      "Index(['rank_order', 'rank', 'name', 'scores_overall', 'scores_overall_rank',\n",
      "       'scores_teaching', 'scores_teaching_rank',\n",
      "       'scores_international_outlook', 'scores_international_outlook_rank',\n",
      "       'scores_industry_income', 'scores_industry_income_rank',\n",
      "       'scores_research', 'scores_research_rank', 'scores_citations',\n",
      "       'scores_citations_rank', 'location', 'aliases', 'subjects_offered',\n",
      "       'closed', 'unaccredited', 'stats_number_students',\n",
      "       'stats_student_staff_ratio', 'stats_pc_intl_students',\n",
      "       'stats_female_male_ratio', 'is_computer_science'],\n",
      "      dtype='object')\n"
     ]
    }
   ],
   "source": [
    "print(df.columns)"
   ]
  },
  {
   "cell_type": "code",
   "execution_count": 10,
   "metadata": {},
   "outputs": [],
   "source": [
    "# Filter the dataframe to include only the rows where 'is_computer_science' is True\n",
    "cs_universities = df[df['is_computer_science']]"
   ]
  },
  {
   "cell_type": "code",
   "execution_count": 11,
   "metadata": {},
   "outputs": [
    {
     "name": "stderr",
     "output_type": "stream",
     "text": [
      "/tmp/ipykernel_49570/2554727737.py:2: FutureWarning: The default value of numeric_only in DataFrameGroupBy.mean is deprecated. In a future version, numeric_only will default to False. Either specify numeric_only or select only columns which should be valid for the function.\n",
      "  top_cs_universities = cs_universities.groupby('name').mean().sort_values(by='rank_order')[:10]\n"
     ]
    }
   ],
   "source": [
    "# Rank the top 10 computer science universities across all years\n",
    "top_cs_universities = cs_universities.groupby('name').mean().sort_values(by='rank_order')[:10]\n"
   ]
  },
  {
   "cell_type": "code",
   "execution_count": 12,
   "metadata": {},
   "outputs": [
    {
     "name": "stdout",
     "output_type": "stream",
     "text": [
      "                                       rank_order\n",
      "name                                             \n",
      "University of Oxford                        9.000\n",
      "California Institute of Technology         30.125\n",
      "Stanford University                        30.375\n",
      "University of Cambridge                    31.750\n",
      "Harvard University                         42.000\n",
      "Massachusetts Institute of Technology      44.375\n",
      "Princeton University                       63.375\n",
      "Yale University                            84.000\n",
      "Imperial College London                    86.000\n",
      "The University of Chicago                  91.250\n"
     ]
    }
   ],
   "source": [
    "# Print the top 10 computer science universities\n",
    "print(top_cs_universities[['rank_order']])\n"
   ]
  }
 ],
 "metadata": {
  "kernelspec": {
   "display_name": "Python 3",
   "language": "python",
   "name": "python3"
  },
  "language_info": {
   "codemirror_mode": {
    "name": "ipython",
    "version": 3
   },
   "file_extension": ".py",
   "mimetype": "text/x-python",
   "name": "python",
   "nbconvert_exporter": "python",
   "pygments_lexer": "ipython3",
   "version": "3.10.6"
  },
  "orig_nbformat": 4
 },
 "nbformat": 4,
 "nbformat_minor": 2
}
